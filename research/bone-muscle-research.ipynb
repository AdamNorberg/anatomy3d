{
 "cells": [
  {
   "cell_type": "code",
   "execution_count": 1,
   "id": "82c9a18e-e26e-4dfa-9b42-c19f17291053",
   "metadata": {},
   "outputs": [],
   "source": [
    "# Import libraries\n",
    "\n",
    "import numpy as np"
   ]
  },
  {
   "cell_type": "markdown",
   "id": "4e6a42ad-2e3b-4e67-aed2-0b9d24518a8d",
   "metadata": {},
   "source": [
    "# Physical Model of Two Bones, a Joint, and a Muscle"
   ]
  },
  {
   "cell_type": "code",
   "execution_count": null,
   "id": "585e5926-22df-43da-9a11-e699aad3e0c3",
   "metadata": {},
   "outputs": [],
   "source": []
  }
 ],
 "metadata": {
  "kernelspec": {
   "display_name": "Python 3 (ipykernel)",
   "language": "python",
   "name": "python3"
  },
  "language_info": {
   "codemirror_mode": {
    "name": "ipython",
    "version": 3
   },
   "file_extension": ".py",
   "mimetype": "text/x-python",
   "name": "python",
   "nbconvert_exporter": "python",
   "pygments_lexer": "ipython3",
   "version": "3.9.10"
  }
 },
 "nbformat": 4,
 "nbformat_minor": 5
}
